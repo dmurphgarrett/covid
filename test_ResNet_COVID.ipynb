{
  "nbformat": 4,
  "nbformat_minor": 0,
  "metadata": {
    "colab": {
      "name": "test_ResNet_COVID.ipynb",
      "provenance": [],
      "include_colab_link": true
    },
    "kernelspec": {
      "name": "python3",
      "display_name": "Python 3"
    },
    "accelerator": "GPU"
  },
  "cells": [
    {
      "cell_type": "markdown",
      "metadata": {
        "id": "view-in-github",
        "colab_type": "text"
      },
      "source": [
        "<a href=\"https://colab.research.google.com/github/dmurphgarrett/covid/blob/master/test_ResNet_COVID.ipynb\" target=\"_parent\"><img src=\"https://colab.research.google.com/assets/colab-badge.svg\" alt=\"Open In Colab\"/></a>"
      ]
    },
    {
      "cell_type": "code",
      "metadata": {
        "id": "3gNHWLVFNjG4",
        "colab_type": "code",
        "colab": {
          "base_uri": "https://localhost:8080/",
          "height": 34
        },
        "outputId": "9d55943c-bfe3-4c39-a07d-cf6f037fc642"
      },
      "source": [
        "import numpy as np # linear algebra\n",
        "import pandas as pd # data processing, CSV file I/O (e.g. pd.read_csv)\n",
        "import tensorflow as tf\n",
        "from tensorflow.keras.preprocessing.image import ImageDataGenerator, load_img, img_to_array, array_to_img\n",
        "import os\n",
        "import math\n",
        "import copy\n",
        "from skimage.io import imread\n",
        "from sklearn.model_selection import train_test_split\n",
        "from sklearn.metrics import accuracy_score\n",
        "from glob import glob\n",
        "import random\n",
        "import cv2\n",
        "import shutil\n",
        "# Helper libraries\n",
        "import matplotlib.pyplot as plt\n",
        "%matplotlib inline\n",
        "print(tf.__version__)"
      ],
      "execution_count": 2,
      "outputs": [
        {
          "output_type": "stream",
          "text": [
            "2.2.0\n"
          ],
          "name": "stdout"
        }
      ]
    },
    {
      "cell_type": "code",
      "metadata": {
        "id": "THIxg3cMOiDM",
        "colab_type": "code",
        "colab": {
          "base_uri": "https://localhost:8080/",
          "height": 122
        },
        "outputId": "6f2285a7-97fb-48c6-e8e3-86936b48e6de"
      },
      "source": [
        "from google.colab import drive\n",
        "drive.mount('/content/drive')"
      ],
      "execution_count": 3,
      "outputs": [
        {
          "output_type": "stream",
          "text": [
            "Go to this URL in a browser: https://accounts.google.com/o/oauth2/auth?client_id=947318989803-6bn6qk8qdgf4n4g3pfee6491hc0brc4i.apps.googleusercontent.com&redirect_uri=urn%3aietf%3awg%3aoauth%3a2.0%3aoob&response_type=code&scope=email%20https%3a%2f%2fwww.googleapis.com%2fauth%2fdocs.test%20https%3a%2f%2fwww.googleapis.com%2fauth%2fdrive%20https%3a%2f%2fwww.googleapis.com%2fauth%2fdrive.photos.readonly%20https%3a%2f%2fwww.googleapis.com%2fauth%2fpeopleapi.readonly\n",
            "\n",
            "Enter your authorization code:\n",
            "··········\n",
            "Mounted at /content/drive\n"
          ],
          "name": "stdout"
        }
      ]
    },
    {
      "cell_type": "code",
      "metadata": {
        "id": "NuYaCeToO3YZ",
        "colab_type": "code",
        "colab": {}
      },
      "source": [
        "data_root = '/content/drive/My Drive/covid'\n",
        "path_positive_cases = os.path.join('/content/drive/My Drive/covid/CT_COVID')\n",
        "path_negative_cases = os.path.join('/content/drive/My Drive/covid/CT_NonCOVID')"
      ],
      "execution_count": 4,
      "outputs": []
    },
    {
      "cell_type": "code",
      "metadata": {
        "id": "wEHUd-XxkMRJ",
        "colab_type": "code",
        "colab": {}
      },
      "source": [
        "# jpg and png files\n",
        "positive_images_ls = glob(os.path.join(path_positive_cases,\"*.png\"))\n",
        "\n",
        "negative_images_ls = glob(os.path.join(path_negative_cases,\"*.png\"))\n",
        "negative_images_ls.extend(glob(os.path.join(path_negative_cases,\"*.jpg\")))"
      ],
      "execution_count": 5,
      "outputs": []
    },
    {
      "cell_type": "code",
      "metadata": {
        "id": "ASlzEWLsk7I6",
        "colab_type": "code",
        "colab": {}
      },
      "source": [
        "covid = {'class': 'CT_COVID',\n",
        "         'path': path_positive_cases,\n",
        "         'images': positive_images_ls}\n",
        "\n",
        "non_covid = {'class': 'CT_NonCOVID',\n",
        "             'path': path_negative_cases,\n",
        "             'images': negative_images_ls}"
      ],
      "execution_count": 6,
      "outputs": []
    },
    {
      "cell_type": "code",
      "metadata": {
        "id": "pmkUzS53lF_T",
        "colab_type": "code",
        "colab": {
          "base_uri": "https://localhost:8080/",
          "height": 51
        },
        "outputId": "b033e9d4-7fba-4d87-b004-1e491918e9ef"
      },
      "source": [
        "total_positive_covid = len(positive_images_ls)\n",
        "total_negative_covid = len(negative_images_ls)\n",
        "print(\"Total Positive Cases Covid19 images: {}\".format(total_positive_covid))\n",
        "print(\"Total Negative Cases Covid19 images: {}\".format(total_negative_covid))"
      ],
      "execution_count": 7,
      "outputs": [
        {
          "output_type": "stream",
          "text": [
            "Total Positive Cases Covid19 images: 349\n",
            "Total Negative Cases Covid19 images: 397\n"
          ],
          "name": "stdout"
        }
      ]
    },
    {
      "cell_type": "code",
      "metadata": {
        "id": "pfW0rRsomwwZ",
        "colab_type": "code",
        "colab": {
          "base_uri": "https://localhost:8080/",
          "height": 272
        },
        "outputId": "9cb7f97b-4a07-4b35-f54d-5376b4d2f945"
      },
      "source": [
        "image_positive = cv2.imread(os.path.join(positive_images_ls[1]))\n",
        "image_negative = cv2.imread(os.path.join(negative_images_ls[5]))\n",
        "\n",
        "f = plt.figure(figsize=(8, 8))\n",
        "f.add_subplot(1, 2, 1)\n",
        "plt.imshow(image_negative)\n",
        "f.add_subplot(1,2, 2)\n",
        "plt.imshow(image_positive)"
      ],
      "execution_count": 8,
      "outputs": [
        {
          "output_type": "execute_result",
          "data": {
            "text/plain": [
              "<matplotlib.image.AxesImage at 0x7fa3f387ff28>"
            ]
          },
          "metadata": {
            "tags": []
          },
          "execution_count": 8
        },
        {
          "output_type": "display_data",
          "data": {
            "image/png": "[encoded data removed]",
            "text/plain": [
              "<Figure size 576x576 with 2 Axes>"
            ]
          },
          "metadata": {
            "tags": [],
            "needs_background": "light"
          }
        }
      ]
    },
    {
      "cell_type": "code",
      "metadata": {
        "id": "cHX9KwClp2JR",
        "colab_type": "code",
        "colab": {
          "base_uri": "https://localhost:8080/",
          "height": 34
        },
        "outputId": "ec9c6970-b4ea-4b57-f218-b0a6a31739e4"
      },
      "source": [
        "from google.colab import drive\n",
        "drive.mount('/content/drive')"
      ],
      "execution_count": 9,
      "outputs": [
        {
          "output_type": "stream",
          "text": [
            "Drive already mounted at /content/drive; to attempt to forcibly remount, call drive.mount(\"/content/drive\", force_remount=True).\n"
          ],
          "name": "stdout"
        }
      ]
    },
    {
      "cell_type": "code",
      "metadata": {
        "id": "GNvusne8m4ot",
        "colab_type": "code",
        "colab": {}
      },
      "source": [
        "#train-test split directory\n",
        "subdirs = ['train/', 'test/']\n",
        "for subdir in subdirs:\n",
        "  labeldirs = ['CT_COVID', 'CT_NonCOVID']\n",
        "  for labldir in labeldirs:\n",
        "    newdir = subdir + labldir\n",
        "    os.makedirs(newdir, exist_ok=True)"
      ],
      "execution_count": 10,
      "outputs": []
    },
    {
      "cell_type": "code",
      "metadata": {
        "id": "SH9QUfwFnwfA",
        "colab_type": "code",
        "colab": {
          "base_uri": "https://localhost:8080/",
          "height": 51
        },
        "outputId": "fa369a1d-3d62-4e46-bbe7-bff7f514d616"
      },
      "source": [
        "random.seed(123)\n",
        "test_ratio = 0.1\n",
        "\n",
        "for cases in [covid,non_covid]:\n",
        "  total_cases = len(cases['images']) #total # of images\n",
        "  num_to_select = int(test_ratio * total_cases) #imgs to copy to test set\n",
        "  print(cases['class'], num_to_select)\n",
        "  list_of_random_files = random.sample(cases['images'],num_to_select) #random file list\n",
        "  \n",
        "  for files in list_of_random_files:\n",
        "    shutil.copy2(files, 'test/' + cases['class'])"
      ],
      "execution_count": 11,
      "outputs": [
        {
          "output_type": "stream",
          "text": [
            "CT_COVID 34\n",
            "CT_NonCOVID 39\n"
          ],
          "name": "stdout"
        }
      ]
    },
    {
      "cell_type": "code",
      "metadata": {
        "id": "ITrrgyAYpBDc",
        "colab_type": "code",
        "colab": {}
      },
      "source": [
        "# Copy Images to train set\n",
        "for cases in [covid, non_covid]:\n",
        "    image_test_files = os.listdir('test/' + cases['class']) # list test files \n",
        "    for images in cases['images']:\n",
        "        if images.split('/')[-1] not in (image_test_files): #exclude test files from shutil.copy\n",
        "            shutil.copy2(images, 'train/' + cases['class'])"
      ],
      "execution_count": 12,
      "outputs": []
    },
    {
      "cell_type": "code",
      "metadata": {
        "id": "jAM8QHNvpFir",
        "colab_type": "code",
        "colab": {
          "base_uri": "https://localhost:8080/",
          "height": 85
        },
        "outputId": "43157e00-3ad9-4eec-912d-2e9e326dce6d"
      },
      "source": [
        "total_train_covid = len(os.listdir('/content/train/CT_COVID'))\n",
        "total_train_noncovid = len(os.listdir('/content/train/CT_NonCOVID'))\n",
        "total_test_covid = len(os.listdir('/content/test/CT_COVID'))\n",
        "total_test_noncovid = len(os.listdir('/content/test/CT_NonCOVID'))\n",
        "\n",
        "print(\"Train images Positive: {}\".format(total_train_covid))\n",
        "print(\"Train images Negative: {}\".format(total_train_noncovid))\n",
        "print(\"Val images Positive: {}\".format(total_test_covid))\n",
        "print(\"Val images Negative: {}\".format(total_test_noncovid))"
      ],
      "execution_count": 13,
      "outputs": [
        {
          "output_type": "stream",
          "text": [
            "Train sets images COVID: 315\n",
            "Train sets images Non COVID: 358\n",
            "Test sets images COVID: 34\n",
            "Test sets images Non COVID: 39\n"
          ],
          "name": "stdout"
        }
      ]
    },
    {
      "cell_type": "code",
      "metadata": {
        "id": "mBnt8mQZGSVz",
        "colab_type": "code",
        "colab": {}
      },
      "source": [
        ""
      ],
      "execution_count": 13,
      "outputs": []
    },
    {
      "cell_type": "code",
      "metadata": {
        "id": "CJWYfOyed__g",
        "colab_type": "code",
        "colab": {
          "base_uri": "https://localhost:8080/",
          "height": 34
        },
        "outputId": "e9516056-455d-42da-cd1e-2ee8a8dabdda"
      },
      "source": [
        "batch_size = 64\n",
        "IMG_HEIGHT = 300\n",
        "IMG_WIDTH = 300\n",
        "IMG_DIM = (IMG_WIDTH, IMG_HEIGHT)\n",
        "\n",
        "train_files = glob('/content/train/CT_*/*')\n",
        "train_imgs = [img_to_array(load_img(img, target_size=IMG_DIM)) for img in train_files]\n",
        "train_imgs = np.array(train_imgs)\n",
        "train_labels = [fn.split('/')[3] for fn in train_files]\n",
        "#print(train_labels)\n",
        "validation_files = glob('/content/test/CT_*/*')\n",
        "validation_imgs = [img_to_array(load_img(img, target_size=IMG_DIM)) for img in validation_files]\n",
        "validation_imgs = np.array(validation_imgs)\n",
        "validation_labels = [fn.split('/')[3] for fn in validation_files]\n",
        "print('Train dataset shape:', train_imgs.shape, \n",
        " '\\tValidation dataset shape:', validation_imgs.shape)"
      ],
      "execution_count": 14,
      "outputs": [
        {
          "output_type": "stream",
          "text": [
            "Train dataset shape: (673, 300, 300, 3) \tValidation dataset shape: (73, 300, 300, 3)\n"
          ],
          "name": "stdout"
        }
      ]
    },
    {
      "cell_type": "code",
      "metadata": {
        "id": "fAHn1JCOIXMN",
        "colab_type": "code",
        "colab": {}
      },
      "source": [
        ""
      ],
      "execution_count": 14,
      "outputs": []
    },
    {
      "cell_type": "code",
      "metadata": {
        "id": "YudilF7A6DBE",
        "colab_type": "code",
        "colab": {}
      },
      "source": [
        "train_image_generator = ImageDataGenerator(rescale=1./255)\n",
        "test_image_generator = ImageDataGenerator(rescale=1./255)"
      ],
      "execution_count": 15,
      "outputs": []
    },
    {
      "cell_type": "code",
      "metadata": {
        "id": "4-MEGTS16_6r",
        "colab_type": "code",
        "colab": {}
      },
      "source": [
        "train_dir = os.path.join('/content/train')\n",
        "test_dir = os.path.join('/content/test')\n",
        "\n",
        "\n",
        "total_train = total_train_covid + total_train_noncovid\n",
        "total_test = total_test_covid + total_test_noncovid"
      ],
      "execution_count": 16,
      "outputs": []
    },
    {
      "cell_type": "code",
      "metadata": {
        "id": "MW8yo1k-9fW-",
        "colab_type": "code",
        "colab": {
          "base_uri": "https://localhost:8080/",
          "height": 34
        },
        "outputId": "6360c9c3-fa5d-4cca-f38f-90e1b5b8c478"
      },
      "source": [
        "train_data_gen = train_image_generator.flow_from_directory(batch_size=batch_size,\n",
        "                                                           directory=train_dir,\n",
        "                                                           shuffle=True,\n",
        "                                                           target_size=(IMG_HEIGHT, IMG_WIDTH),\n",
        "                                                           class_mode='binary')"
      ],
      "execution_count": 17,
      "outputs": [
        {
          "output_type": "stream",
          "text": [
            "Found 673 images belonging to 2 classes.\n"
          ],
          "name": "stdout"
        }
      ]
    },
    {
      "cell_type": "code",
      "metadata": {
        "id": "ocjqkF2H9jFG",
        "colab_type": "code",
        "colab": {
          "base_uri": "https://localhost:8080/",
          "height": 34
        },
        "outputId": "1c22e875-9018-4ef1-c002-898a9c03f898"
      },
      "source": [
        "test_data_gen = test_image_generator.flow_from_directory(batch_size=batch_size,\n",
        "                                                              directory=test_dir,\n",
        "                                                              target_size=(IMG_HEIGHT, IMG_WIDTH),\n",
        "                                                              class_mode='binary')"
      ],
      "execution_count": 18,
      "outputs": [
        {
          "output_type": "stream",
          "text": [
            "Found 73 images belonging to 2 classes.\n"
          ],
          "name": "stdout"
        }
      ]
    },
    {
      "cell_type": "code",
      "metadata": {
        "id": "V9KhLZn1O-yx",
        "colab_type": "code",
        "colab": {
          "base_uri": "https://localhost:8080/",
          "height": 51
        },
        "outputId": "85694dd3-40dc-44be-e09e-5db85300e138"
      },
      "source": [
        "# import resnet 50 here!\n",
        "from tensorflow.keras.applications.resnet50 import ResNet50\n",
        "from tensorflow.keras.models import Model\n",
        "\n",
        "model = ResNet50(include_top=False,weights='imagenet',input_shape=(IMG_HEIGHT,IMG_WIDTH,3))\n",
        "\n",
        "\n",
        "output = model.layers[-1].output\n",
        "output = tf.keras.layers.Flatten()(output)\n",
        "model = Model(model.input, output)\n",
        "for layer in model.layers:\n",
        "    layer.trainable = False\n",
        "#model.summary()"
      ],
      "execution_count": 19,
      "outputs": [
        {
          "output_type": "stream",
          "text": [
            "Downloading data from https://storage.googleapis.com/tensorflow/keras-applications/resnet/resnet50_weights_tf_dim_ordering_tf_kernels_notop.h5\n",
            "94773248/94765736 [==============================] - 1s 0us/step\n"
          ],
          "name": "stdout"
        }
      ]
    },
    {
      "cell_type": "code",
      "metadata": {
        "id": "wIlT3v2jqfxt",
        "colab_type": "code",
        "colab": {
          "base_uri": "https://localhost:8080/",
          "height": 357
        },
        "outputId": "28a6b0cd-8c47-4b18-9b34-b919bf2ff8e5"
      },
      "source": [
        "from tensorflow.keras.layers import Conv2D, MaxPooling2D, Flatten, Dense, Dropout, InputLayer\n",
        "from tensorflow.keras.models import Sequential\n",
        "from tensorflow.keras import optimizers\n",
        "\n",
        "# from tensorflow_addons.metrics import F1Score\n",
        "# optimizers.Adam(lr=0.001)\n",
        "main_model = Sequential()\n",
        "main_model.add(model)\n",
        "main_model.add(Dense(512, activation='relu', input_dim=(IMG_HEIGHT,IMG_WIDTH,3)))\n",
        "main_model.add(Dropout(0.3))\n",
        "main_model.add(Dense(512, activation='relu'))\n",
        "main_model.add(Dropout(0.3))\n",
        "main_model.add(Dense(1, activation='sigmoid'))\n",
        "main_model.compile(loss='binary_crossentropy',\n",
        "              optimizer=optimizers.RMSprop(lr=2e-5),\n",
        "              metrics=['accuracy'])\n",
        "main_model.summary()"
      ],
      "execution_count": 41,
      "outputs": [
        {
          "output_type": "stream",
          "text": [
            "Model: \"sequential_10\"\n",
            "_________________________________________________________________\n",
            "Layer (type)                 Output Shape              Param #   \n",
            "=================================================================\n",
            "model (Model)                (None, 204800)            23587712  \n",
            "_________________________________________________________________\n",
            "dense_27 (Dense)             (None, 512)               104858112 \n",
            "_________________________________________________________________\n",
            "dropout_18 (Dropout)         (None, 512)               0         \n",
            "_________________________________________________________________\n",
            "dense_28 (Dense)             (None, 512)               262656    \n",
            "_________________________________________________________________\n",
            "dropout_19 (Dropout)         (None, 512)               0         \n",
            "_________________________________________________________________\n",
            "dense_29 (Dense)             (None, 1)                 513       \n",
            "=================================================================\n",
            "Total params: 128,708,993\n",
            "Trainable params: 105,121,281\n",
            "Non-trainable params: 23,587,712\n",
            "_________________________________________________________________\n"
          ],
          "name": "stdout"
        }
      ]
    },
    {
      "cell_type": "code",
      "metadata": {
        "id": "PQayfK1I7Lt9",
        "colab_type": "code",
        "colab": {
          "base_uri": "https://localhost:8080/",
          "height": 1000
        },
        "outputId": "2499845e-e844-4153-96eb-b65effd84b44"
      },
      "source": [
        "# history = main_model.fit_generator(train_data_gen, \n",
        "#                               steps_per_epoch=5, \n",
        "#                               epochs=15,\n",
        "#                               validation_data=test_data_gen, \n",
        "#                               validation_steps=1, \n",
        "#                               verbose=1)\n",
        "history = main_model.fit(train_data_gen,batch_size=32,epochs=100,validation_data=test_data_gen)\n"
      ],
      "execution_count": null,
      "outputs": [
        {
          "output_type": "stream",
          "text": [
            "Epoch 1/100\n",
            "11/11 [==============================] - 11s 1s/step - loss: 1.3006 - accuracy: 0.5141 - val_loss: 0.6778 - val_accuracy: 0.5068\n",
            "Epoch 2/100\n",
            "11/11 [==============================] - 10s 939ms/step - loss: 0.9005 - accuracy: 0.5171 - val_loss: 0.8674 - val_accuracy: 0.4658\n",
            "Epoch 3/100\n",
            "11/11 [==============================] - 10s 937ms/step - loss: 0.7395 - accuracy: 0.5617 - val_loss: 0.6508 - val_accuracy: 0.6164\n",
            "Epoch 4/100\n",
            "11/11 [==============================] - 11s 955ms/step - loss: 0.7389 - accuracy: 0.5572 - val_loss: 0.6802 - val_accuracy: 0.5616\n",
            "Epoch 5/100\n",
            "11/11 [==============================] - 10s 935ms/step - loss: 0.6835 - accuracy: 0.5929 - val_loss: 0.6862 - val_accuracy: 0.5479\n",
            "Epoch 6/100\n",
            "11/11 [==============================] - 10s 929ms/step - loss: 0.6621 - accuracy: 0.6122 - val_loss: 0.6440 - val_accuracy: 0.6164\n",
            "Epoch 7/100\n",
            "11/11 [==============================] - 10s 919ms/step - loss: 0.6799 - accuracy: 0.5929 - val_loss: 0.6832 - val_accuracy: 0.5616\n",
            "Epoch 8/100\n",
            "11/11 [==============================] - 10s 924ms/step - loss: 0.6507 - accuracy: 0.6107 - val_loss: 0.6321 - val_accuracy: 0.6027\n",
            "Epoch 9/100\n",
            "11/11 [==============================] - 10s 932ms/step - loss: 0.6440 - accuracy: 0.6181 - val_loss: 0.6766 - val_accuracy: 0.5616\n",
            "Epoch 10/100\n",
            "11/11 [==============================] - 10s 935ms/step - loss: 0.6447 - accuracy: 0.6434 - val_loss: 0.6654 - val_accuracy: 0.5890\n",
            "Epoch 11/100\n",
            "11/11 [==============================] - 10s 935ms/step - loss: 0.5985 - accuracy: 0.6850 - val_loss: 0.6208 - val_accuracy: 0.6301\n",
            "Epoch 12/100\n",
            "11/11 [==============================] - 10s 932ms/step - loss: 0.6005 - accuracy: 0.6716 - val_loss: 0.6148 - val_accuracy: 0.6301\n",
            "Epoch 13/100\n",
            "11/11 [==============================] - 10s 934ms/step - loss: 0.6079 - accuracy: 0.6776 - val_loss: 0.6229 - val_accuracy: 0.6301\n",
            "Epoch 14/100\n",
            "11/11 [==============================] - 11s 967ms/step - loss: 0.6050 - accuracy: 0.6508 - val_loss: 0.6173 - val_accuracy: 0.6301\n",
            "Epoch 15/100\n",
            "11/11 [==============================] - 10s 935ms/step - loss: 0.5995 - accuracy: 0.6657 - val_loss: 0.6056 - val_accuracy: 0.6849\n",
            "Epoch 16/100\n",
            "11/11 [==============================] - 10s 936ms/step - loss: 0.5744 - accuracy: 0.6909 - val_loss: 0.6620 - val_accuracy: 0.6164\n",
            "Epoch 17/100\n",
            "11/11 [==============================] - 10s 931ms/step - loss: 0.6001 - accuracy: 0.6523 - val_loss: 0.6581 - val_accuracy: 0.6301\n",
            "Epoch 18/100\n",
            "11/11 [==============================] - 10s 939ms/step - loss: 0.5511 - accuracy: 0.7103 - val_loss: 0.6218 - val_accuracy: 0.6438\n",
            "Epoch 19/100\n",
            "11/11 [==============================] - 10s 921ms/step - loss: 0.5750 - accuracy: 0.7073 - val_loss: 0.6951 - val_accuracy: 0.5753\n",
            "Epoch 20/100\n",
            "11/11 [==============================] - 11s 967ms/step - loss: 0.5649 - accuracy: 0.7162 - val_loss: 0.6590 - val_accuracy: 0.6301\n",
            "Epoch 21/100\n",
            "11/11 [==============================] - 10s 933ms/step - loss: 0.5534 - accuracy: 0.7192 - val_loss: 0.6719 - val_accuracy: 0.6164\n",
            "Epoch 22/100\n",
            "11/11 [==============================] - 10s 936ms/step - loss: 0.5601 - accuracy: 0.7058 - val_loss: 0.7136 - val_accuracy: 0.5753\n",
            "Epoch 23/100\n",
            "11/11 [==============================] - 10s 942ms/step - loss: 0.5622 - accuracy: 0.7028 - val_loss: 0.6008 - val_accuracy: 0.6849\n",
            "Epoch 24/100\n",
            "11/11 [==============================] - 10s 951ms/step - loss: 0.5345 - accuracy: 0.7429 - val_loss: 0.6339 - val_accuracy: 0.6438\n",
            "Epoch 25/100\n",
            "11/11 [==============================] - 10s 935ms/step - loss: 0.5219 - accuracy: 0.7355 - val_loss: 0.6151 - val_accuracy: 0.6849\n",
            "Epoch 26/100\n",
            "11/11 [==============================] - 10s 935ms/step - loss: 0.5226 - accuracy: 0.7266 - val_loss: 0.6325 - val_accuracy: 0.6575\n",
            "Epoch 27/100\n",
            "11/11 [==============================] - 10s 933ms/step - loss: 0.5433 - accuracy: 0.7296 - val_loss: 0.5950 - val_accuracy: 0.6986\n",
            "Epoch 28/100\n",
            "11/11 [==============================] - 10s 922ms/step - loss: 0.5034 - accuracy: 0.7415 - val_loss: 0.6177 - val_accuracy: 0.6849\n",
            "Epoch 29/100\n",
            "11/11 [==============================] - 11s 964ms/step - loss: 0.5440 - accuracy: 0.7221 - val_loss: 0.5897 - val_accuracy: 0.7123\n",
            "Epoch 30/100\n",
            "11/11 [==============================] - 10s 934ms/step - loss: 0.5325 - accuracy: 0.7073 - val_loss: 0.6059 - val_accuracy: 0.6986\n",
            "Epoch 31/100\n",
            "11/11 [==============================] - 11s 964ms/step - loss: 0.5367 - accuracy: 0.7236 - val_loss: 0.5898 - val_accuracy: 0.7671\n",
            "Epoch 32/100\n",
            "11/11 [==============================] - 10s 934ms/step - loss: 0.4981 - accuracy: 0.7652 - val_loss: 0.6037 - val_accuracy: 0.6849\n",
            "Epoch 33/100\n",
            "11/11 [==============================] - 11s 964ms/step - loss: 0.5005 - accuracy: 0.7533 - val_loss: 0.5837 - val_accuracy: 0.7534\n",
            "Epoch 34/100\n",
            "11/11 [==============================] - 10s 938ms/step - loss: 0.5104 - accuracy: 0.7444 - val_loss: 0.6062 - val_accuracy: 0.6986\n",
            "Epoch 35/100\n",
            "11/11 [==============================] - 10s 933ms/step - loss: 0.4872 - accuracy: 0.7741 - val_loss: 0.7355 - val_accuracy: 0.6027\n",
            "Epoch 36/100\n",
            "11/11 [==============================] - 10s 932ms/step - loss: 0.5094 - accuracy: 0.7429 - val_loss: 0.5820 - val_accuracy: 0.7671\n",
            "Epoch 37/100\n",
            "11/11 [==============================] - 10s 935ms/step - loss: 0.4810 - accuracy: 0.7786 - val_loss: 0.6781 - val_accuracy: 0.6027\n",
            "Epoch 38/100\n",
            "11/11 [==============================] - 10s 934ms/step - loss: 0.5056 - accuracy: 0.7459 - val_loss: 0.5944 - val_accuracy: 0.7397\n",
            "Epoch 39/100\n",
            "11/11 [==============================] - ETA: 0s - loss: 0.4837 - accuracy: 0.7845"
          ],
          "name": "stdout"
        }
      ]
    },
    {
      "cell_type": "code",
      "metadata": {
        "id": "ILxC57Y0OpzR",
        "colab_type": "code",
        "colab": {}
      },
      "source": [
        "# list all data in history\n",
        "print(history.history.keys())\n",
        "# summarize history for accuracy\n",
        "plt.plot(history.history['accuracy'])\n",
        "plt.plot(history.history['val_accuracy'])\n",
        "plt.title('model accuracy')\n",
        "plt.ylabel('accuracy')\n",
        "plt.xlabel('epoch')\n",
        "plt.legend(['train', 'test'], loc='upper left')\n",
        "plt.show()\n",
        "# summarize history for loss\n",
        "plt.plot(history.history['loss'])\n",
        "plt.plot(history.history['val_loss'])\n",
        "plt.title('model loss')\n",
        "plt.ylabel('loss')\n",
        "plt.xlabel('epoch')\n",
        "plt.legend(['train', 'test'], loc='upper left')\n",
        "plt.show()\n",
        "main_model.save('covid_cnn_version_on.h5')\n"
      ],
      "execution_count": null,
      "outputs": []
    }
  ]
}